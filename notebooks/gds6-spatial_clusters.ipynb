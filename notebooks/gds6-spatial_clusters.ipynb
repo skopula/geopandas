{
 "cells": [
  {
   "cell_type": "markdown",
   "metadata": {},
   "source": [
    "# Clustering and Regions #\n",
    "\n",
    "The previous notebook provided several illustrations of the power of\n",
    "visualization in the analysis of spatial data. This power stems from\n",
    "visualizations ability to tap into our human pattern recognition machinery.\n",
    "\n",
    "In this notebook we introduce methods for regionalization and clustering.\n",
    "\n",
    "\n",
    "## Imports"
   ]
  },
  {
   "cell_type": "code",
   "execution_count": null,
   "metadata": {},
   "outputs": [],
   "source": [
    "import pandas as pd\n",
    "import geopandas as gpd\n",
    "import libpysal as lp\n",
    "import matplotlib.pyplot as plt\n",
    "import rasterio as rio\n",
    "import numpy as np\n",
    "import contextily as ctx\n",
    "import shapely.geometry as geom\n",
    "%matplotlib inline"
   ]
  },
  {
   "cell_type": "code",
   "execution_count": null,
   "metadata": {},
   "outputs": [],
   "source": [
    "neighborhoods = gpd.read_file('../data/neighborhoods.gpkg')\n",
    "# was created in previous notebook with neighborhoods.to_file('data/neighborhoods.gpkg')\n",
    "listings = gpd.read_file('../data/listings.gpkg')\n",
    "# was created in previous notebook with listings.to_file('data/neighborhoods.gpkg')"
   ]
  },
  {
   "cell_type": "code",
   "execution_count": null,
   "metadata": {},
   "outputs": [],
   "source": [
    "listings['price'] = listings.price.str.replace('$','').str.replace(',','_').astype(float)"
   ]
  },
  {
   "cell_type": "code",
   "execution_count": null,
   "metadata": {},
   "outputs": [],
   "source": [
    "neighborhoods.head()"
   ]
  },
  {
   "cell_type": "code",
   "execution_count": null,
   "metadata": {},
   "outputs": [],
   "source": [
    "summaries = gpd.sjoin(listings[['price', 'accommodates', 'geometry']], neighborhoods, op='within')\\\n",
    "                .eval('price_per_head = price / accommodates')\\\n",
    "                .groupby('index_right')\\\n",
    "                .agg(dict(price_per_head='median',\n",
    "                          price='median'))"
   ]
  },
  {
   "cell_type": "code",
   "execution_count": null,
   "metadata": {},
   "outputs": [],
   "source": [
    "neighborhoods['median_pph'] = summaries.price_per_head\n",
    "neighborhoods['median_pri'] = summaries.price"
   ]
  },
  {
   "cell_type": "code",
   "execution_count": null,
   "metadata": {},
   "outputs": [],
   "source": [
    "f,ax = plt.subplots(1,2,figsize=(8,3))\n",
    "neighborhoods.plot(column='median_pri', ax=ax[0])\n",
    "neighborhoods.plot(column='median_pph', ax=ax[1])\n",
    "ax[0].set_title('Median Price')\n",
    "ax[1].set_title('Median Price per Head')"
   ]
  },
  {
   "cell_type": "code",
   "execution_count": null,
   "metadata": {},
   "outputs": [],
   "source": [
    "import libpysal"
   ]
  },
  {
   "cell_type": "code",
   "execution_count": null,
   "metadata": {},
   "outputs": [],
   "source": [
    "wq = libpysal.weights.Queen.from_dataframe(neighborhoods)"
   ]
  },
  {
   "cell_type": "code",
   "execution_count": null,
   "metadata": {},
   "outputs": [],
   "source": [
    "from sklearn.cluster import KMeans, AgglomerativeClustering"
   ]
  },
  {
   "cell_type": "code",
   "execution_count": null,
   "metadata": {},
   "outputs": [],
   "source": [
    "kmeans = KMeans(n_clusters=5)"
   ]
  },
  {
   "cell_type": "code",
   "execution_count": null,
   "metadata": {},
   "outputs": [],
   "source": [
    "import numpy\n",
    "numpy.random.seed(0)\n",
    "cluster_variables = ['median_pri']\n",
    "k5cls = kmeans.fit(neighborhoods[cluster_variables])"
   ]
  },
  {
   "cell_type": "code",
   "execution_count": null,
   "metadata": {},
   "outputs": [],
   "source": [
    "k5cls.labels_"
   ]
  },
  {
   "cell_type": "code",
   "execution_count": null,
   "metadata": {},
   "outputs": [],
   "source": [
    "# Assign labels into a column\n",
    "neighborhoods['k5cls'] = k5cls.labels_\n",
    "# Setup figure and ax\n",
    "f, ax = plt.subplots(1, figsize=(9, 9))\n",
    "# Plot unique values choropleth including a legend and with no boundary lines\n",
    "neighborhoods.plot(column='k5cls', categorical=True, legend=True, linewidth=0, ax=ax)\n",
    "# Remove axis\n",
    "ax.set_axis_off()\n",
    "# Keep axes proportionate\n",
    "plt.axis('equal')\n",
    "# Add title\n",
    "plt.title(r'Price Clusters (k-means, $k=5$)')\n",
    "# Display the map\n",
    "plt.show()"
   ]
  },
  {
   "cell_type": "code",
   "execution_count": null,
   "metadata": {},
   "outputs": [],
   "source": [
    "k5sizes = neighborhoods.groupby('k5cls').size()\n",
    "k5sizes"
   ]
  },
  {
   "cell_type": "code",
   "execution_count": null,
   "metadata": {},
   "outputs": [],
   "source": [
    "k5means = neighborhoods.groupby('k5cls')[cluster_variables].mean()"
   ]
  },
  {
   "cell_type": "code",
   "execution_count": null,
   "metadata": {},
   "outputs": [],
   "source": [
    "k5means.T"
   ]
  },
  {
   "cell_type": "code",
   "execution_count": null,
   "metadata": {},
   "outputs": [],
   "source": [
    "import numpy\n",
    "numpy.random.seed(0)"
   ]
  },
  {
   "cell_type": "code",
   "execution_count": null,
   "metadata": {},
   "outputs": [],
   "source": [
    "ward5 = AgglomerativeClustering(linkage='ward', n_clusters=5)\n",
    "ward5.fit(neighborhoods[cluster_variables])\n",
    "neighborhoods['ward5'] = ward5.labels_"
   ]
  },
  {
   "cell_type": "code",
   "execution_count": null,
   "metadata": {},
   "outputs": [],
   "source": [
    "ward5sizes = neighborhoods.groupby('ward5').size()\n",
    "ward5sizes"
   ]
  },
  {
   "cell_type": "code",
   "execution_count": null,
   "metadata": {},
   "outputs": [],
   "source": [
    "ward5means = neighborhoods.groupby('ward5')[cluster_variables].mean()\n",
    "ward5means.T"
   ]
  },
  {
   "cell_type": "code",
   "execution_count": null,
   "metadata": {},
   "outputs": [],
   "source": [
    "# Setup figure and ax\n",
    "f, ax = plt.subplots(1, figsize=(9, 9))\n",
    "# Plot unique values choropleth including a legend and with no boundary lines\n",
    "neighborhoods.plot(column='ward5', categorical=True, legend=True, linewidth=0, ax=ax)\n",
    "# Remove axis\n",
    "ax.set_axis_off()\n",
    "# Keep axes proportionate\n",
    "plt.axis('equal')\n",
    "# Add title\n",
    "plt.title('Price Clusters (AHC, $k=5$)')\n",
    "# Display the map\n",
    "plt.show()"
   ]
  },
  {
   "cell_type": "code",
   "execution_count": null,
   "metadata": {},
   "outputs": [],
   "source": [
    "# Setup figure and ax\n",
    "f, axs = plt.subplots(1, 2, figsize=(12, 6))\n",
    "\n",
    "ax = axs[0]\n",
    "# Plot unique values choropleth including a legend and with no boundary lines\n",
    "neighborhoods.plot(column='ward5', categorical=True, cmap='Set2', \n",
    "                   legend=True, linewidth=0, ax=ax)\n",
    "# Remove axis\n",
    "ax.set_axis_off()\n",
    "# Keep axes proportionate\n",
    "ax.axis('equal')\n",
    "# Add title\n",
    "ax.set_title('K-Means solution ($k=5$)')\n",
    "\n",
    "ax = axs[1]\n",
    "# Plot unique values choropleth including a legend and with no boundary lines\n",
    "neighborhoods.plot(column='k5cls', categorical=True, cmap='Set3',\n",
    "                   legend=True, linewidth=0, ax=ax)\n",
    "# Remove axis\n",
    "ax.set_axis_off()\n",
    "# Keep axes proportionate\n",
    "ax.axis('equal')\n",
    "# Add title\n",
    "ax.set_title('AHC solution ($k=5$)')\n",
    "\n",
    "# Display the map\n",
    "plt.show()\n",
    "\n"
   ]
  },
  {
   "cell_type": "code",
   "execution_count": null,
   "metadata": {},
   "outputs": [],
   "source": [
    "numpy.random.seed(123456)\n",
    "model = AgglomerativeClustering(linkage='ward',\n",
    "                                connectivity=wq.sparse,\n",
    "                                n_clusters=5)\n",
    "model.fit(neighborhoods[cluster_variables])"
   ]
  },
  {
   "cell_type": "code",
   "execution_count": null,
   "metadata": {},
   "outputs": [],
   "source": [
    "neighborhoods['ward5wq'] = model.labels_\n",
    "# Setup figure and ax\n",
    "f, ax = plt.subplots(1, figsize=(9, 9))\n",
    "# Plot unique values choropleth including a legend and with no boundary lines\n",
    "neighborhoods.plot(column='ward5wq', categorical=True, legend=True, linewidth=0, ax=ax)\n",
    "# Remove axis\n",
    "ax.set_axis_off()\n",
    "# Keep axes proportionate\n",
    "plt.axis('equal')\n",
    "# Add title\n",
    "plt.title(r'Price Regions (Ward, $k=5$, Queen Contiguity)')\n",
    "# Display the map\n",
    "plt.show()"
   ]
  },
  {
   "cell_type": "markdown",
   "metadata": {},
   "source": [
    "## Spatial Clustering Based on Points"
   ]
  },
  {
   "cell_type": "code",
   "execution_count": null,
   "metadata": {},
   "outputs": [],
   "source": [
    "listings.shape"
   ]
  },
  {
   "cell_type": "code",
   "execution_count": null,
   "metadata": {},
   "outputs": [],
   "source": [
    "clipped_thiessens = gpd.read_file('../data/thiessens.gpkg')"
   ]
  },
  {
   "cell_type": "code",
   "execution_count": null,
   "metadata": {},
   "outputs": [],
   "source": [
    "clipped_thiessens.shape"
   ]
  },
  {
   "cell_type": "code",
   "execution_count": null,
   "metadata": {},
   "outputs": [],
   "source": [
    "wtq = libpysal.weights.Queen.from_dataframe(clipped_thiessens)"
   ]
  },
  {
   "cell_type": "code",
   "execution_count": null,
   "metadata": {},
   "outputs": [],
   "source": [
    "wtq.n"
   ]
  },
  {
   "cell_type": "code",
   "execution_count": null,
   "metadata": {},
   "outputs": [],
   "source": [
    "numpy.random.seed(123456)"
   ]
  },
  {
   "cell_type": "code",
   "execution_count": null,
   "metadata": {},
   "outputs": [],
   "source": [
    "logprice = numpy.log(listings[['price']]+1)"
   ]
  },
  {
   "cell_type": "code",
   "execution_count": null,
   "metadata": {},
   "outputs": [],
   "source": [
    "model = AgglomerativeClustering(linkage='ward',\n",
    "                                            connectivity=wtq.sparse,\n",
    "                                            n_clusters=5)\n",
    "model.fit(logprice)"
   ]
  },
  {
   "cell_type": "code",
   "execution_count": null,
   "metadata": {},
   "outputs": [],
   "source": [
    "listings['region'] = model.labels_"
   ]
  },
  {
   "cell_type": "code",
   "execution_count": null,
   "metadata": {},
   "outputs": [],
   "source": [
    "numpy.unique(model.labels_, return_counts=True)"
   ]
  },
  {
   "cell_type": "code",
   "execution_count": null,
   "metadata": {},
   "outputs": [],
   "source": [
    "listings.sort_values('region').plot(column='region', marker='.')"
   ]
  },
  {
   "cell_type": "code",
   "execution_count": null,
   "metadata": {},
   "outputs": [],
   "source": [
    "region_sizes = listings.groupby('region').size()\n",
    "region_sizes"
   ]
  },
  {
   "cell_type": "code",
   "execution_count": null,
   "metadata": {},
   "outputs": [],
   "source": [
    "model = AgglomerativeClustering(linkage='ward',n_clusters=5)\n",
    "model.fit(logprice)"
   ]
  },
  {
   "cell_type": "code",
   "execution_count": null,
   "metadata": {},
   "outputs": [],
   "source": [
    "listings['region5'] = model.labels_"
   ]
  },
  {
   "cell_type": "code",
   "execution_count": null,
   "metadata": {},
   "outputs": [],
   "source": [
    "listings.groupby('region5').size()"
   ]
  },
  {
   "cell_type": "code",
   "execution_count": null,
   "metadata": {},
   "outputs": [],
   "source": [
    "region1 = listings[listings.region5==1]"
   ]
  },
  {
   "cell_type": "code",
   "execution_count": null,
   "metadata": {},
   "outputs": [],
   "source": [
    "region1.plot()"
   ]
  },
  {
   "cell_type": "code",
   "execution_count": null,
   "metadata": {},
   "outputs": [],
   "source": [
    "for region in range(5):\n",
    "    region_ = listings[listings.region5==region]\n",
    "    region_.plot()\n",
    "    print(region_.shape)"
   ]
  },
  {
   "cell_type": "code",
   "execution_count": null,
   "metadata": {},
   "outputs": [],
   "source": [
    "region_.shape"
   ]
  }
 ],
 "metadata": {
  "kernelspec": {
   "display_name": "Python 3",
   "language": "python",
   "name": "python3"
  },
  "language_info": {
   "codemirror_mode": {
    "name": "ipython",
    "version": 3
   },
   "file_extension": ".py",
   "mimetype": "text/x-python",
   "name": "python",
   "nbconvert_exporter": "python",
   "pygments_lexer": "ipython3",
   "version": "3.6.7"
  }
 },
 "nbformat": 4,
 "nbformat_minor": 4
}
